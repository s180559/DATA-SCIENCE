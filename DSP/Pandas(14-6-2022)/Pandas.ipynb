{
 "cells": [
  {
   "cell_type": "markdown",
   "id": "2d0e7391",
   "metadata": {},
   "source": [
    "# print dataframe without header row"
   ]
  },
  {
   "cell_type": "markdown",
   "id": "3eba990a",
   "metadata": {},
   "source": [
    "#### ===>header=\"None\":In this function header row also include in dataframe with index 0."
   ]
  },
  {
   "cell_type": "code",
   "execution_count": 42,
   "id": "c1fc226e",
   "metadata": {},
   "outputs": [
    {
     "data": {
      "text/html": [
       "<div>\n",
       "<style scoped>\n",
       "    .dataframe tbody tr th:only-of-type {\n",
       "        vertical-align: middle;\n",
       "    }\n",
       "\n",
       "    .dataframe tbody tr th {\n",
       "        vertical-align: top;\n",
       "    }\n",
       "\n",
       "    .dataframe thead th {\n",
       "        text-align: right;\n",
       "    }\n",
       "</style>\n",
       "<table border=\"1\" class=\"dataframe\">\n",
       "  <thead>\n",
       "    <tr style=\"text-align: right;\">\n",
       "      <th></th>\n",
       "      <th>0</th>\n",
       "      <th>1</th>\n",
       "      <th>2</th>\n",
       "    </tr>\n",
       "  </thead>\n",
       "  <tbody>\n",
       "    <tr>\n",
       "      <th>0</th>\n",
       "      <td>Name</td>\n",
       "      <td>id</td>\n",
       "      <td>age</td>\n",
       "    </tr>\n",
       "    <tr>\n",
       "      <th>1</th>\n",
       "      <td>asdf</td>\n",
       "      <td>12</td>\n",
       "      <td>18</td>\n",
       "    </tr>\n",
       "    <tr>\n",
       "      <th>2</th>\n",
       "      <td>divya</td>\n",
       "      <td>13</td>\n",
       "      <td>18</td>\n",
       "    </tr>\n",
       "    <tr>\n",
       "      <th>3</th>\n",
       "      <td>tanu</td>\n",
       "      <td>14</td>\n",
       "      <td>18</td>\n",
       "    </tr>\n",
       "    <tr>\n",
       "      <th>4</th>\n",
       "      <td>madhu</td>\n",
       "      <td>15</td>\n",
       "      <td>19</td>\n",
       "    </tr>\n",
       "    <tr>\n",
       "      <th>...</th>\n",
       "      <td>...</td>\n",
       "      <td>...</td>\n",
       "      <td>...</td>\n",
       "    </tr>\n",
       "    <tr>\n",
       "      <th>137</th>\n",
       "      <td>ammu</td>\n",
       "      <td>148</td>\n",
       "      <td>145</td>\n",
       "    </tr>\n",
       "    <tr>\n",
       "      <th>138</th>\n",
       "      <td>ammu</td>\n",
       "      <td>149</td>\n",
       "      <td>146</td>\n",
       "    </tr>\n",
       "    <tr>\n",
       "      <th>139</th>\n",
       "      <td>ammu</td>\n",
       "      <td>150</td>\n",
       "      <td>147</td>\n",
       "    </tr>\n",
       "    <tr>\n",
       "      <th>140</th>\n",
       "      <td>ammu</td>\n",
       "      <td>151</td>\n",
       "      <td>148</td>\n",
       "    </tr>\n",
       "    <tr>\n",
       "      <th>141</th>\n",
       "      <td>ammu</td>\n",
       "      <td>152</td>\n",
       "      <td>149</td>\n",
       "    </tr>\n",
       "  </tbody>\n",
       "</table>\n",
       "<p>142 rows × 3 columns</p>\n",
       "</div>"
      ],
      "text/plain": [
       "         0    1    2\n",
       "0     Name   id  age\n",
       "1     asdf   12   18\n",
       "2    divya   13   18\n",
       "3     tanu   14   18\n",
       "4    madhu   15   19\n",
       "..     ...  ...  ...\n",
       "137   ammu  148  145\n",
       "138   ammu  149  146\n",
       "139   ammu  150  147\n",
       "140   ammu  151  148\n",
       "141   ammu  152  149\n",
       "\n",
       "[142 rows x 3 columns]"
      ]
     },
     "execution_count": 42,
     "metadata": {},
     "output_type": "execute_result"
    }
   ],
   "source": [
    "import pandas as pd\n",
    "df=pd.read_csv(\"fname.csv\",header=None)\n",
    "df"
   ]
  },
  {
   "cell_type": "markdown",
   "id": "f82826ef",
   "metadata": {},
   "source": [
    "#### ===>header=0:In this header row  function value is 0 doesnot include in dataframe."
   ]
  },
  {
   "cell_type": "code",
   "execution_count": 44,
   "id": "0e9dc1a2",
   "metadata": {},
   "outputs": [],
   "source": [
    "df=pd.read_csv(\"fname.csv\",header=0)"
   ]
  },
  {
   "cell_type": "markdown",
   "id": "4f40bc8b",
   "metadata": {},
   "source": [
    "#### ===>header=False: In this false value is raising a type error"
   ]
  },
  {
   "cell_type": "code",
   "execution_count": null,
   "id": "fb08b78c",
   "metadata": {},
   "outputs": [],
   "source": [
    "df=pd.read_csv(\"fname.csv\",header=False)"
   ]
  },
  {
   "cell_type": "markdown",
   "id": "d9af4923",
   "metadata": {},
   "source": [
    "## using none function drop the header row"
   ]
  },
  {
   "cell_type": "code",
   "execution_count": 43,
   "id": "857ef162",
   "metadata": {},
   "outputs": [
    {
     "data": {
      "text/html": [
       "<div>\n",
       "<style scoped>\n",
       "    .dataframe tbody tr th:only-of-type {\n",
       "        vertical-align: middle;\n",
       "    }\n",
       "\n",
       "    .dataframe tbody tr th {\n",
       "        vertical-align: top;\n",
       "    }\n",
       "\n",
       "    .dataframe thead th {\n",
       "        text-align: right;\n",
       "    }\n",
       "</style>\n",
       "<table border=\"1\" class=\"dataframe\">\n",
       "  <thead>\n",
       "    <tr style=\"text-align: right;\">\n",
       "      <th></th>\n",
       "      <th>0</th>\n",
       "      <th>1</th>\n",
       "      <th>2</th>\n",
       "    </tr>\n",
       "  </thead>\n",
       "  <tbody>\n",
       "    <tr>\n",
       "      <th>1</th>\n",
       "      <td>asdf</td>\n",
       "      <td>12</td>\n",
       "      <td>18</td>\n",
       "    </tr>\n",
       "    <tr>\n",
       "      <th>2</th>\n",
       "      <td>divya</td>\n",
       "      <td>13</td>\n",
       "      <td>18</td>\n",
       "    </tr>\n",
       "    <tr>\n",
       "      <th>3</th>\n",
       "      <td>tanu</td>\n",
       "      <td>14</td>\n",
       "      <td>18</td>\n",
       "    </tr>\n",
       "    <tr>\n",
       "      <th>4</th>\n",
       "      <td>madhu</td>\n",
       "      <td>15</td>\n",
       "      <td>19</td>\n",
       "    </tr>\n",
       "    <tr>\n",
       "      <th>5</th>\n",
       "      <td>sai</td>\n",
       "      <td>16</td>\n",
       "      <td>19</td>\n",
       "    </tr>\n",
       "    <tr>\n",
       "      <th>...</th>\n",
       "      <td>...</td>\n",
       "      <td>...</td>\n",
       "      <td>...</td>\n",
       "    </tr>\n",
       "    <tr>\n",
       "      <th>137</th>\n",
       "      <td>ammu</td>\n",
       "      <td>148</td>\n",
       "      <td>145</td>\n",
       "    </tr>\n",
       "    <tr>\n",
       "      <th>138</th>\n",
       "      <td>ammu</td>\n",
       "      <td>149</td>\n",
       "      <td>146</td>\n",
       "    </tr>\n",
       "    <tr>\n",
       "      <th>139</th>\n",
       "      <td>ammu</td>\n",
       "      <td>150</td>\n",
       "      <td>147</td>\n",
       "    </tr>\n",
       "    <tr>\n",
       "      <th>140</th>\n",
       "      <td>ammu</td>\n",
       "      <td>151</td>\n",
       "      <td>148</td>\n",
       "    </tr>\n",
       "    <tr>\n",
       "      <th>141</th>\n",
       "      <td>ammu</td>\n",
       "      <td>152</td>\n",
       "      <td>149</td>\n",
       "    </tr>\n",
       "  </tbody>\n",
       "</table>\n",
       "<p>141 rows × 3 columns</p>\n",
       "</div>"
      ],
      "text/plain": [
       "         0    1    2\n",
       "1     asdf   12   18\n",
       "2    divya   13   18\n",
       "3     tanu   14   18\n",
       "4    madhu   15   19\n",
       "5      sai   16   19\n",
       "..     ...  ...  ...\n",
       "137   ammu  148  145\n",
       "138   ammu  149  146\n",
       "139   ammu  150  147\n",
       "140   ammu  151  148\n",
       "141   ammu  152  149\n",
       "\n",
       "[141 rows x 3 columns]"
      ]
     },
     "execution_count": 43,
     "metadata": {},
     "output_type": "execute_result"
    }
   ],
   "source": [
    "import pandas as pd\n",
    "import numpy as np\n",
    "df=pd.read_csv(\"fname.csv\",header=None)\n",
    "df1=df.drop(0)\n",
    "df1"
   ]
  },
  {
   "cell_type": "markdown",
   "id": "79046b1a",
   "metadata": {},
   "source": [
    "# Linspace function:"
   ]
  },
  {
   "cell_type": "raw",
   "id": "b52722e1",
   "metadata": {},
   "source": [
    "The numpy linspace function is a tool in python for creating numeric sequences.\n",
    "Similarly numpy arrange function in that it creates sequences of evenly spaced numbers.\n",
    "In this Numpy linspace functioncreates sequences of evenly spaced values within a defined interval.\n",
    "Ex:np.linspace(start=0,end=100,num=5)\n",
    "==>This code produces nd array object(numpy array)\n",
    "0-25-50-75-100"
   ]
  },
  {
   "cell_type": "code",
   "execution_count": 40,
   "id": "f67bc292",
   "metadata": {},
   "outputs": [
    {
     "data": {
      "text/plain": [
       "array([  0.,  25.,  50.,  75., 100.])"
      ]
     },
     "execution_count": 40,
     "metadata": {},
     "output_type": "execute_result"
    }
   ],
   "source": [
    "df4=np.linspace(0,100,5)\n",
    "df4"
   ]
  },
  {
   "cell_type": "code",
   "execution_count": null,
   "id": "446b4d33",
   "metadata": {},
   "outputs": [],
   "source": []
  }
 ],
 "metadata": {
  "kernelspec": {
   "display_name": "Python 3 (ipykernel)",
   "language": "python",
   "name": "python3"
  },
  "language_info": {
   "codemirror_mode": {
    "name": "ipython",
    "version": 3
   },
   "file_extension": ".py",
   "mimetype": "text/x-python",
   "name": "python",
   "nbconvert_exporter": "python",
   "pygments_lexer": "ipython3",
   "version": "3.9.12"
  }
 },
 "nbformat": 4,
 "nbformat_minor": 5
}
