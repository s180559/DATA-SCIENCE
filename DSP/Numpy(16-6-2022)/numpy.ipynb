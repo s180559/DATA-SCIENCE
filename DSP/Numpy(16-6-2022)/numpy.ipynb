{
 "cells": [
  {
   "cell_type": "code",
   "execution_count": 1,
   "id": "617b528f",
   "metadata": {},
   "outputs": [
    {
     "name": "stdout",
     "output_type": "stream",
     "text": [
      "[1 2 3 4]\n",
      "<class 'numpy.ndarray'>\n",
      "42\n",
      "6\n",
      "4\n",
      "7\n",
      "[[[ 1  2]\n",
      "  [ 3  4]\n",
      "  [ 5  6]]\n",
      "\n",
      " [[ 7  8]\n",
      "  [ 9 10]\n",
      "  [11 12]]]\n",
      "1\n",
      "2\n",
      "3\n",
      "4\n",
      "5\n",
      "6\n",
      "7\n",
      "8\n",
      "9\n",
      "10\n",
      "11\n",
      "12\n",
      "(2, 4)\n",
      "int32\n",
      "<U7\n",
      "[2 3 4 5]\n"
     ]
    }
   ],
   "source": [
    "import numpy as np\n",
    "arr=np.array([1,2,3,4])\n",
    "print(arr)\n",
    "print(type(arr))\n",
    "a=np.array(42)\n",
    "print(a)\n",
    "b=np.array([[[1,2,3],[4,5,6]],[[7,8,9],[10,11,12]]])\n",
    "print(b[0,1,2])\n",
    "print(arr[-1])\n",
    "print(arr[2]+arr[3])\n",
    "c=np.array([1,2,3,4,5,6,7,8,9,10,11,12])\n",
    "print(c.reshape(2,3,2))\n",
    "for x in c:\n",
    "    print(x)\n",
    "d=np.array([[1,2,3,4],[5,6,7,8]])\n",
    "print(d.shape)\n",
    "print(arr.dtype)\n",
    "e=np.array(['divi','kishore','sai'])\n",
    "print(e.dtype)\n",
    "print(c[1:5])"
   ]
  },
  {
   "cell_type": "code",
   "execution_count": null,
   "id": "b89e6746",
   "metadata": {},
   "outputs": [],
   "source": []
  }
 ],
 "metadata": {
  "kernelspec": {
   "display_name": "Python 3 (ipykernel)",
   "language": "python",
   "name": "python3"
  },
  "language_info": {
   "codemirror_mode": {
    "name": "ipython",
    "version": 3
   },
   "file_extension": ".py",
   "mimetype": "text/x-python",
   "name": "python",
   "nbconvert_exporter": "python",
   "pygments_lexer": "ipython3",
   "version": "3.9.12"
  }
 },
 "nbformat": 4,
 "nbformat_minor": 5
}
