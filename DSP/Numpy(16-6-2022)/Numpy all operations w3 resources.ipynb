{
 "cells": [
  {
   "cell_type": "raw",
   "id": "eaaafe85",
   "metadata": {},
   "source": [
    "Write a numpy program for return numpy version and numpy configuration?"
   ]
  },
  {
   "cell_type": "code",
   "execution_count": 5,
   "id": "b2b28b8c",
   "metadata": {},
   "outputs": [
    {
     "name": "stdout",
     "output_type": "stream",
     "text": [
      "1.21.5\n"
     ]
    }
   ],
   "source": [
    "import numpy as np\n",
    "print(np.__version__)\n",
    "#print(np.show_config())"
   ]
  },
  {
   "cell_type": "markdown",
   "id": "d781f3cc",
   "metadata": {},
   "source": [
    "# add function "
   ]
  },
  {
   "cell_type": "code",
   "execution_count": 6,
   "id": "f9c8ede7",
   "metadata": {},
   "outputs": [],
   "source": [
    "#print(np.info(np.add))"
   ]
  },
  {
   "cell_type": "markdown",
   "id": "86ca91a3",
   "metadata": {},
   "source": [
    "# none of the elements of a given array is zero"
   ]
  },
  {
   "cell_type": "code",
   "execution_count": 7,
   "id": "d38bfad9",
   "metadata": {},
   "outputs": [
    {
     "name": "stdout",
     "output_type": "stream",
     "text": [
      "Original array:\n",
      "[1 2 3 4]\n",
      "test if none of the elements of the said is zero:\n",
      "True\n",
      "Original array:\n",
      "[0 1 2 3]\n",
      "test if none of the elements of the said is zero:\n",
      "True\n"
     ]
    }
   ],
   "source": [
    "x=np.array([1,2,3,4])\n",
    "print(\"Original array:\")\n",
    "print(x)\n",
    "print(\"test if none of the elements of the said is zero:\")\n",
    "print(np.any(x))\n",
    "x=np.array([0,1,2,3])\n",
    "print(\"Original array:\")\n",
    "print(x)\n",
    "print(\"test if none of the elements of the said is zero:\")\n",
    "print(np.any(x))"
   ]
  },
  {
   "cell_type": "markdown",
   "id": "a5258bc0",
   "metadata": {},
   "source": [
    "# To test whether any of the the given array is non-zero"
   ]
  },
  {
   "cell_type": "code",
   "execution_count": 10,
   "id": "a5c4287c",
   "metadata": {},
   "outputs": [
    {
     "name": "stdout",
     "output_type": "stream",
     "text": [
      "Original array:\n",
      "[1 0 0 0]\n",
      "True\n",
      "False\n"
     ]
    }
   ],
   "source": [
    "x=np.array([1,0,0,0])\n",
    "print(\"Original array:\")\n",
    "print(x)\n",
    "print(np.any(x))\n",
    "y=np.array([0,0,0,0])\n",
    "print(np.any(y))"
   ]
  },
  {
   "cell_type": "markdown",
   "id": "53bd6259",
   "metadata": {},
   "source": [
    "# to test a given  array element  elemnet-wise  for finiteness or Infintiteness or null value"
   ]
  },
  {
   "cell_type": "code",
   "execution_count": 12,
   "id": "6188c7aa",
   "metadata": {},
   "outputs": [
    {
     "name": "stdout",
     "output_type": "stream",
     "text": [
      "[ 1.  0. nan inf]\n",
      "[ True  True False False]\n"
     ]
    }
   ],
   "source": [
    "a=np.array([1,0,np.nan,np.inf])\n",
    "print(a)\n",
    "print(np.isfinite(a))"
   ]
  },
  {
   "cell_type": "code",
   "execution_count": 14,
   "id": "9b4ecd9d",
   "metadata": {},
   "outputs": [
    {
     "name": "stdout",
     "output_type": "stream",
     "text": [
      "[False False False  True]\n"
     ]
    }
   ],
   "source": [
    "print(np.isinf(a))"
   ]
  },
  {
   "cell_type": "code",
   "execution_count": 15,
   "id": "a3374d77",
   "metadata": {},
   "outputs": [
    {
     "name": "stdout",
     "output_type": "stream",
     "text": [
      "[False False  True False]\n"
     ]
    }
   ],
   "source": [
    "print(np.isnan(a))"
   ]
  },
  {
   "cell_type": "markdown",
   "id": "9f91cd04",
   "metadata": {},
   "source": [
    "# To test element-wise for complex number and real number and scalar or not"
   ]
  },
  {
   "cell_type": "code",
   "execution_count": 18,
   "id": "dba2c82d",
   "metadata": {},
   "outputs": [
    {
     "name": "stdout",
     "output_type": "stream",
     "text": [
      "Originala array:\n",
      "[1. +1.j 1. +0.j 4.5+0.j 3.2+0.j 0. +2.j]\n",
      "checking for complex number:\n",
      "[ True False False False  True]\n",
      "checking for real number:\n",
      "[False  True  True  True False]\n",
      "Checking for scalr type:\n",
      "True\n",
      "False\n"
     ]
    }
   ],
   "source": [
    "a=np.array([1+1j,1+0j,4.5,3.2,2j])\n",
    "print(\"Originala array:\")\n",
    "print(a)\n",
    "print(\"checking for complex number:\")\n",
    "print(np.iscomplex(a))\n",
    "print(\"checking for real number:\")\n",
    "print(np.isreal(a))\n",
    "print(\"Checking for scalr type:\")\n",
    "print(np.isscalar(3.1))\n",
    "print(np.isscalar([3.1]))"
   ]
  },
  {
   "cell_type": "markdown",
   "id": "8897b490",
   "metadata": {},
   "source": [
    "# to create an element  wise comparision(greater,greater_equal,less,less_equal of given 2 arrays"
   ]
  },
  {
   "cell_type": "code",
   "execution_count": 21,
   "id": "d96e47e9",
   "metadata": {},
   "outputs": [
    {
     "name": "stdout",
     "output_type": "stream",
     "text": [
      "Original array:\n",
      "[3 5]\n",
      "[2 5]\n",
      "Comaparsion_grater\n",
      "[ True False]\n",
      "Comparison_grater_equal\n",
      "[ True  True]\n",
      "Comparision less\n",
      "[False False]\n",
      "comparision less equal\n",
      "[False  True]\n"
     ]
    }
   ],
   "source": [
    "x=np.array([3,5])\n",
    "y=np.array([2,5])\n",
    "print(\"Original array:\")\n",
    "print(x)\n",
    "print(y)\n",
    "print(\"Comaparsion_grater\")\n",
    "print(np.greater(x,y))\n",
    "print(\"Comparison_grater_equal\")\n",
    "print(np.greater_equal(x,y))\n",
    "print(\"Comparision less\")\n",
    "print(np.less(x,y))\n",
    "print(\"comparision less equal\")\n",
    "print(np.less_equal(x,y))"
   ]
  },
  {
   "cell_type": "markdown",
   "id": "f21e3240",
   "metadata": {},
   "source": [
    "# to create an element-wise comparision (equal,equal within a tolerance of given two given arrays"
   ]
  },
  {
   "cell_type": "code",
   "execution_count": 22,
   "id": "195d4443",
   "metadata": {},
   "outputs": [
    {
     "name": "stdout",
     "output_type": "stream",
     "text": [
      "Original array:\n",
      "[  72   79   85   90  150 -135  120   10   60  100]\n",
      "[  72.        79.        85.        90.       150.      -135.\n",
      "  120.        10.        60.       100.00001]\n",
      "comparision equal:\n",
      "[ True  True  True  True  True  True  True  True  True False]\n",
      "Comparision equal within a tolerance:\n",
      "True\n"
     ]
    }
   ],
   "source": [
    "x=np.array([72,79,85,90,150,-135,120,10,60,100])\n",
    "y=np.array([72,79,85,90,150,-135,120,10,60,100.00001])\n",
    "print(\"Original array:\")\n",
    "print(x)\n",
    "print(y)\n",
    "print(\"comparision equal:\")\n",
    "print(np.equal(x,y))\n",
    "print(\"Comparision equal within a tolerance:\")\n",
    "print(np.allclose(x,y))"
   ]
  },
  {
   "cell_type": "markdown",
   "id": "e5727527",
   "metadata": {},
   "source": [
    "# To create an array with the values 1,7,13,105 and determine the size of the memory occupied by the array"
   ]
  },
  {
   "cell_type": "code",
   "execution_count": 27,
   "id": "2e0de6fe",
   "metadata": {},
   "outputs": [
    {
     "name": "stdout",
     "output_type": "stream",
     "text": [
      "Original array:\n",
      "[   1    7   13  105 8798]\n",
      "Size of the memory occupied by the memory:\n",
      "20 bytes\n"
     ]
    }
   ],
   "source": [
    "x=np.array([1,7,13,105,8798])\n",
    "print(\"Original array:\")\n",
    "print(x)\n",
    "print(\"Size of the memory occupied by the memory:\")\n",
    "print(\"%d bytes\"%(x.size*x.itemsize))"
   ]
  },
  {
   "cell_type": "code",
   "execution_count": null,
   "id": "1e4ab0e5",
   "metadata": {},
   "outputs": [],
   "source": []
  }
 ],
 "metadata": {
  "kernelspec": {
   "display_name": "Python 3 (ipykernel)",
   "language": "python",
   "name": "python3"
  },
  "language_info": {
   "codemirror_mode": {
    "name": "ipython",
    "version": 3
   },
   "file_extension": ".py",
   "mimetype": "text/x-python",
   "name": "python",
   "nbconvert_exporter": "python",
   "pygments_lexer": "ipython3",
   "version": "3.9.12"
  }
 },
 "nbformat": 4,
 "nbformat_minor": 5
}
