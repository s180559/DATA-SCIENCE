{
 "cells": [
  {
   "cell_type": "code",
   "execution_count": 3,
   "id": "06945ea0",
   "metadata": {},
   "outputs": [
    {
     "data": {
      "image/png": "[encoded data removed]",
      "text/plain": [
       "<Figure size 432x288 with 1 Axes>"
      ]
     },
     "metadata": {
      "needs_background": "light"
     },
     "output_type": "display_data"
    }
   ],
   "source": [
    "import matplotlib.pyplot as plt\n",
    "import numpy as np\n",
    "country=['usa','india','germany','uk','gjh']\n",
    "gdp_per_capita=[4800,3800,5000,4500,440]\n",
    "plt.barh(country,gdp_per_capita)\n",
    "plt.title('country vs gdp')\n",
    "plt.xlabel('country')\n",
    "plt.ylabel('gdp')\n",
    "plt.show()\n",
    "#bar(c,v)\n",
    "#barh(c,v)"
   ]
  },
  {
   "cell_type": "code",
   "execution_count": null,
   "id": "4b0d4da6",
   "metadata": {},
   "outputs": [],
   "source": []
  }
 ],
 "metadata": {
  "kernelspec": {
   "display_name": "Python 3 (ipykernel)",
   "language": "python",
   "name": "python3"
  },
  "language_info": {
   "codemirror_mode": {
    "name": "ipython",
    "version": 3
   },
   "file_extension": ".py",
   "mimetype": "text/x-python",
   "name": "python",
   "nbconvert_exporter": "python",
   "pygments_lexer": "ipython3",
   "version": "3.9.12"
  }
 },
 "nbformat": 4,
 "nbformat_minor": 5
}
