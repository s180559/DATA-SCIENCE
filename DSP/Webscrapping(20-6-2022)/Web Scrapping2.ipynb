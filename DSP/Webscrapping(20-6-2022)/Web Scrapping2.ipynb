{
 "cells": [
  {
   "cell_type": "code",
   "execution_count": 3,
   "id": "ab25392e",
   "metadata": {},
   "outputs": [
    {
     "name": "stdout",
     "output_type": "stream",
     "text": [
      "<Response [200]>\n",
      "b'<!doctype html><html lang=\"en\"><head><meta charset=\"utf-8\"/><link rel=\"icon\" href=\"/images/icons/nxtwave-icon-384x384.png\"/><meta name=\"viewport\" content=\"width=device-width,initial-scale=1\"/><meta name=\"theme-color\" content=\"#000000\"/><link rel=\"apple-touch-icon\" href=\"images/icons/nxtwave-touch-icon-iphone.png\"/><link rel=\"apple-touch-icon\" sizes=\"76x76\" href=\"images/icons/nxtwave-touch-icon-ipad.png\"/><link rel=\"apple-touch-icon\" sizes=\"120x120\" href=\"images/icons/nxtwave-touch-icon-iphone-retina.png\"/><link rel=\"apple-touch-icon\" sizes=\"152x152\" href=\"images/icons/nxtwave-touch-icon-ipad-retina.png\"/><link rel=\"apple-touch-startup-image\" media=\"screen and (device-width: 320px) and (device-height: 568px) and (-webkit-device-pixel-ratio: 2) and (orientation: landscape)\" href=\"images/icons/nxtwave-touch-icon-start-up-1136x640.png\"/><link rel=\"apple-touch-startup-image\" media=\"screen and (device-width: 375px) and (device-height: 812px) and (-webkit-device-pixel-ratio: 3) and (orientation: landscape)\" href=\"images/icons/nxtwave-touch-icon-start-up-2436x1125.png\"/><link rel=\"apple-touch-startup-image\" media=\"screen and (device-width: 414px) and (device-height: 896px) and (-webkit-device-pixel-ratio: 2) and (orientation: landscape)\" href=\"images/icons/nxtwave-touch-icon-start-up-1792x828.png\"/><link rel=\"apple-touch-startup-image\" media=\"screen and (device-width: 414px) and (device-height: 896px) and (-webkit-device-pixel-ratio: 2) and (orientation: portrait)\" href=\"images/icons/nxtwave-touch-icon-start-up-828x1792.png\"/><link rel=\"apple-touch-startup-image\" media=\"screen and (device-width: 375px) and (device-height: 667px) and (-webkit-device-pixel-ratio: 2) and (orientation: landscape)\" href=\"images/icons/nxtwave-touch-icon-start-up-1334x750.png\"/><link rel=\"apple-touch-startup-image\" media=\"screen and (device-width: 414px) and (device-height: 896px) and (-webkit-device-pixel-ratio: 3) and (orientation: portrait)\" href=\"images/icons/nxtwave-touch-icon-start-up-1242x2688.png\"/><link rel=\"apple-touch-startup-image\" media=\"screen and (device-width: 414px) and (device-height: 736px) and (-webkit-device-pixel-ratio: 3) and (orientation: landscape)\" href=\"images/icons/nxtwave-touch-icon-start-up-2208x1242.png\"/><link rel=\"apple-touch-startup-image\" media=\"screen and (device-width: 375px) and (device-height: 812px) and (-webkit-device-pixel-ratio: 3) and (orientation: portrait)\" href=\"images/icons/nxtwave-touch-icon-start-up-1125x2436.png\"/><link rel=\"apple-touch-startup-image\" media=\"screen and (device-width: 414px) and (device-height: 736px) and (-webkit-device-pixel-ratio: 3) and (orientation: portrait)\" href=\"images/icons/nxtwave-touch-icon-start-up-1242x2208.png\"/><link rel=\"apple-touch-startup-image\" media=\"screen and (device-width: 1024px) and (device-height: 1366px) and (-webkit-device-pixel-ratio: 2) and (orientation: landscape)\" href=\"images/icons/nxtwave-touch-icon-start-up-2732x2048.png\"/><link rel=\"apple-touch-startup-image\" media=\"screen and (device-width: 414px) and (device-height: 896px) and (-webkit-device-pixel-ratio: 3) and (orientation: landscape)\" href=\"images/icons/nxtwave-touch-icon-start-up-2688x1242.png\"/><link rel=\"apple-touch-startup-image\" media=\"screen and (device-width: 834px) and (device-height: 1112px) and (-webkit-device-pixel-ratio: 2) and (orientation: landscape)\" href=\"images/icons/nxtwave-touch-icon-start-up-2224x1668.png\"/><link rel=\"apple-touch-startup-image\" media=\"screen and (device-width: 375px) and (device-height: 667px) and (-webkit-device-pixel-ratio: 2) and (orientation: portrait)\" href=\"images/icons/nxtwave-touch-icon-start-up-750x1334.png\"/><link rel=\"apple-touch-startup-image\" media=\"screen and (device-width: 1024px) and (device-height: 1366px) and (-webkit-device-pixel-ratio: 2) and (orientation: portrait)\" href=\"images/icons/nxtwave-touch-icon-start-up-2048x2732.png\"/><link rel=\"apple-touch-startup-image\" media=\"screen and (device-width: 834px) and (device-height: 1194px) and (-webkit-device-pixel-ratio: 2) and (orientation: landscape)\" href=\"images/icons/nxtwave-touch-icon-start-up-2388x1668.png\"/><link rel=\"apple-touch-startup-image\" media=\"screen and (device-width: 834px) and (device-height: 1112px) and (-webkit-device-pixel-ratio: 2) and (orientation: portrait)\" href=\"images/icons/nxtwave-touch-icon-start-up-1668x2224.png\"/><link rel=\"apple-touch-startup-image\" media=\"screen and (device-width: 320px) and (device-height: 568px) and (-webkit-device-pixel-ratio: 2) and (orientation: portrait)\" href=\"images/icons/nxtwave-touch-icon-start-up-640x1136.png\"/><link rel=\"apple-touch-startup-image\" media=\"screen and (device-width: 834px) and (device-height: 1194px) and (-webkit-device-pixel-ratio: 2) and (orientation: portrait)\" href=\"images/icons/nxtwave-touch-icon-start-up-1668x2388.png\"/><link rel=\"apple-touch-startup-image\" media=\"screen and (device-width: 768px) and (device-height: 1024px) and (-webkit-device-pixel-ratio: 2) and (orientation: landscape)\" href=\"images/icons/nxtwave-touch-icon-start-up-2048x1536.png\"/><link rel=\"apple-touch-startup-image\" media=\"screen and (device-width: 768px) and (device-height: 1024px) and (-webkit-device-pixel-ratio: 2) and (orientation: portrait)\" href=\"images/icons/nxtwave-touch-icon-start-up-1536x2048.png\"/><meta name=\"mobile-web-app-capable\" content=\"yes\"/><meta name=\"apple-mobile-web-app-capable\" content=\"yes\"/><meta name=\"application-name\" content=\"NXT WAVE\"/><meta name=\"apple-mobile-web-app-title\" content=\"NXT WAVE\"/><meta name=\"theme-color\" content=\"#ffffff\"/><meta name=\"msapplication-navbutton-color\" content=\"#ffffff\"/><meta name=\"apple-mobile-web-app-status-bar-style\" content=\"default\"/><meta name=\"msapplication-starturl\" content=\"/\"/><meta name=\"viewport\" content=\"width=device-width,initial-scale=1,shrink-to-fit=no\"/><link rel=\"manifest\" href=\"/manifest-ccbp.json\"/><meta property=\"og:title\" content=\"Revolutionizing the Job Market | NxtWave\"/><meta property=\"og:description\" content=\"Upgrade yourself with contemporary knowledge in 4.0 Technologies and 21st Century Business skills.\"/><meta property=\"og:image\" content=\"https://media-content.ccbp.in/website/ccbp_website_logos/nxtwave_og_img.png\"/><meta property=\"og:url\" content=\"https://learning.ccbp.in/\"/><link href=\"https://fonts.googleapis.com/css?family=JetBrains+Mono:300,300i,400,400i,600,600i,700,700i,800,800i&display=swap\" rel=\"stylesheet\"/><link href=\"https://fonts.googleapis.com/css?family=Inter:300,300i,400,400i,500,500i,600,600i,700,700i,800,800i&display=swap\" rel=\"stylesheet\"/><script>if(!window.Cypress){var OneSignal=window.OneSignal||[];OneSignal.push((function(){OneSignal.init({appId:\"0364979b-eac3-413e-b785-a1ec380a8cea\"})}))}</script><meta name=\"google-site-verification\" content=\"\"/><script src=\"https://cdnjs.cloudflare.com/ajax/libs/mathjax/2.7.1/MathJax.js?config=TeX-MML-AM_CHTML\" async></script><link href=\"/static/css/30.2e9c2d6d.chunk.css\" rel=\"stylesheet\"><link href=\"/static/css/main.cfe76738.chunk.css\" rel=\"stylesheet\"></head><body><noscript><iframe src=\"https://www.googletagmanager.com/ns.html?id=GTM-N47MXSP\" height=\"0\" width=\"0\" style=\"display:none;visibility:hidden\"></iframe></noscript><noscript><iframe src=\"https://www.googletagmanager.com/ns.html?id=GTM-TM5ZXGS\" height=\"0\" width=\"0\" style=\"display:none;visibility:hidden\"></iframe></noscript><noscript><iframe src=\"https://www.googletagmanager.com/ns.html?id=GTM-MJ55HP7\" height=\"0\" width=\"0\" style=\"display:none;visibility:hidden\"></iframe></noscript><div id=\"root\"><div id=\"app\"></div><div id=\"modals\"></div></div><script async type=\"text/javascript\" src=\"./pwabuilder-sw-register.js\"></script><script>!function(e){function c(c){for(var f,a,n=c[0],b=c[1],o=c[2],u=0,s=[];u<n.length;u++)a=n[u],Object.prototype.hasOwnProperty.call(t,a)&&t[a]&&s.push(t[a][0]),t[a]=0;for(f in b)Object.prototype.hasOwnProperty.call(b,f)&&(e[f]=b[f]);for(i&&i(c);s.length;)s.shift()();return r.push.apply(r,o||[]),d()}function d(){for(var e,c=0;c<r.length;c++){for(var d=r[c],f=!0,a=1;a<d.length;a++){var b=d[a];0!==t[b]&&(f=!1)}f&&(r.splice(c--,1),e=n(n.s=d[0]))}return e}var f={},a={29:0},t={29:0},r=[];function n(c){if(f[c])return f[c].exports;var d=f[c]={i:c,l:!1,exports:{}};return e[c].call(d.exports,d,d.exports,n),d.l=!0,d.exports}n.e=function(e){var c=[];a[e]?c.push(a[e]):0!==a[e]&&{1:1,3:1,4:1,9:1,12:1,14:1,15:1,17:1,18:1,22:1,23:1,31:1,32:1,33:1,34:1,35:1,36:1,38:1,39:1,40:1,41:1,42:1,43:1,44:1,45:1,47:1,48:1,49:1,50:1,51:1,52:1,53:1,54:1,55:1,56:1,57:1,58:1,59:1,60:1,62:1,64:1,65:1,66:1,67:1,68:1,69:1,70:1,71:1,72:1,73:1,74:1,75:1,76:1,77:1,78:1,79:1,80:1,81:1,82:1,83:1,84:1,86:1,89:1,92:1,95:1}[e]&&c.push(a[e]=new Promise((function(c,d){for(var f=\"static/css/\"+({}[e]||e)+\".\"+{0:\"31d6cfe0\",1:\"1dcde049\",2:\"31d6cfe0\",3:\"a69cddaf\",4:\"713c010a\",5:\"31d6cfe0\",6:\"31d6cfe0\",7:\"31d6cfe0\",8:\"31d6cfe0\",9:\"0570782e\",10:\"31d6cfe0\",11:\"31d6cfe0\",12:\"6a73aec0\",13:\"31d6cfe0\",14:\"f129da8e\",15:\"6ed32519\",16:\"31d6cfe0\",17:\"f42216fa\",18:\"c79b8ce9\",19:\"31d6cfe0\",20:\"31d6cfe0\",21:\"31d6cfe0\",22:\"6b953a37\",23:\"f4eb372f\",24:\"31d6cfe0\",25:\"31d6cfe0\",26:\"31d6cfe0\",27:\"31d6cfe0\",31:\"2c7dcd38\",32:\"2c7dcd38\",33:\"c69b86e3\",34:\"59d866d4\",35:\"97d68146\",36:\"7cfa8fd3\",37:\"31d6cfe0\",38:\"e57519c0\",39:\"2b2cd7eb\",40:\"434a1879\",41:\"4a5a61e1\",42:\"6ed99d6e\",43:\"c5a6f2ab\",44:\"c5a6f2ab\",45:\"37f6845e\",46:\"31d6cfe0\",47:\"5de731c2\",48:\"0ee3eb8b\",49:\"5016309a\",50:\"417f9911\",51:\"10781bf6\",52:\"a4bb53da\",53:\"10781bf6\",54:\"9767d21f\",55:\"805463e8\",56:\"d75a7d72\",57:\"2f1a6c99\",58:\"2f1a6c99\",59:\"d3aa5bd4\",60:\"ebbec644\",61:\"31d6cfe0\",62:\"5ce9c987\",63:\"31d6cfe0\",64:\"7186fa35\",65:\"ee45084b\",66:\"ba42235a\",67:\"4705bb8a\",68:\"fe9d69e8\",69:\"bc0f28e7\",70:\"d5f55666\",71:\"7d6b7787\",72:\"08bc6214\",73:\"fc04a890\",74:\"aab2fcb7\",75:\"08bc6214\",76:\"08bc6214\",77:\"b9d1971e\",78:\"3c822957\",79:\"38937735\",80:\"34b6e70f\",81:\"312a8d57\",82:\"9ff60b36\",83:\"8f57332e\",84:\"564b1452\",85:\"31d6cfe0\",86:\"aab2fcb7\",87:\"31d6cfe0\",88:\"31d6cfe0\",89:\"9a8c5ca6\",90:\"31d6cfe0\",91:\"31d6cfe0\",92:\"f112dde5\",93:\"31d6cfe0\",94:\"31d6cfe0\",95:\"d07f8815\",96:\"31d6cfe0\",97:\"31d6cfe0\",98:\"31d6cfe0\",99:\"31d6cfe0\",100:\"31d6cfe0\",101:\"31d6cfe0\",102:\"31d6cfe0\",103:\"31d6cfe0\",104:\"31d6cfe0\",105:\"31d6cfe0\",106:\"31d6cfe0\",107:\"31d6cfe0\",108:\"31d6cfe0\",109:\"31d6cfe0\",110:\"31d6cfe0\",111:\"31d6cfe0\",112:\"31d6cfe0\",113:\"31d6cfe0\",114:\"31d6cfe0\",115:\"31d6cfe0\",116:\"31d6cfe0\",117:\"31d6cfe0\",118:\"31d6cfe0\",119:\"31d6cfe0\",120:\"31d6cfe0\",121:\"31d6cfe0\",122:\"31d6cfe0\"}[e]+\".chunk.css\",t=n.p+f,r=document.getElementsByTagName(\"link\"),b=0;b<r.length;b++){var o=(i=r[b]).getAttribute(\"data-href\")||i.getAttribute(\"href\");if(\"stylesheet\"===i.rel&&(o===f||o===t))return c()}var u=document.getElementsByTagName(\"style\");for(b=0;b<u.length;b++){var i;if((o=(i=u[b]).getAttribute(\"data-href\"))===f||o===t)return c()}var s=document.createElement(\"link\");s.rel=\"stylesheet\",s.type=\"text/css\",s.onload=c,s.onerror=function(c){var f=c&&c.target&&c.target.src||t,r=new Error(\"Loading CSS chunk \"+e+\" failed.\\\\n(\"+f+\")\");r.code=\"CSS_CHUNK_LOAD_FAILED\",r.request=f,delete a[e],s.parentNode.removeChild(s),d(r)},s.href=t,document.getElementsByTagName(\"head\")[0].appendChild(s)})).then((function(){a[e]=0})));var d=t[e];if(0!==d)if(d)c.push(d[2]);else{var f=new Promise((function(c,f){d=t[e]=[c,f]}));c.push(d[2]=f);var r,b=document.createElement(\"script\");b.charset=\"utf-8\",b.timeout=120,n.nc&&b.setAttribute(\"nonce\",n.nc),b.src=function(e){return n.p+\"static/js/\"+({}[e]||e)+\".\"+{0:\"3ff3da13\",1:\"b21cd3f9\",2:\"966672d8\",3:\"0b05287c\",4:\"cf785d86\",5:\"03c7005a\",6:\"52f7e4f0\",7:\"7c0ba173\",8:\"eedc2491\",9:\"af06de0c\",10:\"77c9ad36\",11:\"bcd6244e\",12:\"c1ad2cbe\",13:\"0dbe4478\",14:\"7d4c8b8a\",15:\"ddc0cf3b\",16:\"70912918\",17:\"5e77c686\",18:\"8a1fef99\",19:\"3d934aa4\",20:\"23d1b210\",21:\"1c233c5d\",22:\"43714777\",23:\"403e8991\",24:\"371f4d06\",25:\"9d3c9c82\",26:\"7d556786\",27:\"31f4853c\",31:\"2fdd17c0\",32:\"c5d76548\",33:\"db7ea7e1\",34:\"03892d8e\",35:\"eddc9fee\",36:\"0b5d21d3\",37:\"9c3a70f7\",38:\"c0606b72\",39:\"65f92669\",40:\"09a9a9ff\",41:\"8e319a1b\",42:\"20622529\",43:\"a0641fbd\",44:\"ec7abab3\",45:\"664644ff\",46:\"62ee281c\",47:\"a4b9545f\",48:\"d4bc3102\",49:\"233339d4\",50:\"2d338901\",51:\"fb6e3393\",52:\"4b48c198\",53:\"1b80bbb8\",54:\"b81e5dbe\",55:\"e7fdb9ff\",56:\"0d6591fd\",57:\"faf6842c\",58:\"e6dfa42b\",59:\"a3dd5a7a\",60:\"656104bd\",61:\"2845fc84\",62:\"5b03f2f9\",63:\"01f87ecd\",64:\"d5c63605\",65:\"c0ab0a95\",66:\"972d35e0\",67:\"49fd8474\",68:\"60f70dd5\",69:\"bec034c5\",70:\"f381d7c7\",71:\"a546e35f\",72:\"70440b72\",73:\"02342ee6\",74:\"dead2457\",75:\"5813c1fa\",76:\"08622c3d\",77:\"bdce59f9\",78:\"72466362\",79:\"8feed69b\",80:\"fa7d1c99\",81:\"8329158f\",82:\"1df4d421\",83:\"b5986da8\",84:\"93ee51c4\",85:\"e1b2ea98\",86:\"eb134c4b\",87:\"62a71b87\",88:\"532a1423\",89:\"726ea0d2\",90:\"004b4fe1\",91:\"4e0cd63b\",92:\"625e8040\",93:\"c51fcbc3\",94:\"42cc7e25\",95:\"748a3a32\",96:\"6a048afe\",97:\"b24e60f9\",98:\"788d4dd9\",99:\"03936e25\",100:\"c8b3d5c1\",101:\"be958607\",102:\"e09420e5\",103:\"8fc85911\",104:\"230f54a1\",105:\"ad446f6d\",106:\"bc7dd390\",107:\"a4fbbd5b\",108:\"26c24c89\",109:\"de2a9d25\",110:\"86561d1b\",111:\"a4ecac98\",112:\"757c2617\",113:\"d0df4212\",114:\"30455aea\",115:\"1f4b38a8\",116:\"8d70bc59\",117:\"4f6dcc34\",118:\"9d7754c8\",119:\"02885416\",120:\"ec21b0e7\",121:\"7d6a9e25\",122:\"6b56f673\"}[e]+\".chunk.js\"}(e);var o=new Error;r=function(c){b.onerror=b.onload=null,clearTimeout(u);var d=t[e];if(0!==d){if(d){var f=c&&(\"load\"===c.type?\"missing\":c.type),a=c&&c.target&&c.target.src;o.message=\"Loading chunk \"+e+\" failed.\\\\n(\"+f+\": \"+a+\")\",o.name=\"ChunkLoadError\",o.type=f,o.request=a,d[1](o)}t[e]=void 0}};var u=setTimeout((function(){r({type:\"timeout\",target:b})}),12e4);b.onerror=b.onload=r,document.head.appendChild(b)}return Promise.all(c)},n.m=e,n.c=f,n.d=function(e,c,d){n.o(e,c)||Object.defineProperty(e,c,{enumerable:!0,get:d})},n.r=function(e){\"undefined\"!=typeof Symbol&&Symbol.toStringTag&&Object.defineProperty(e,Symbol.toStringTag,{value:\"Module\"}),Object.defineProperty(e,\"__esModule\",{value:!0})},n.t=function(e,c){if(1&c&&(e=n(e)),8&c)return e;if(4&c&&\"object\"==typeof e&&e&&e.__esModule)return e;var d=Object.create(null);if(n.r(d),Object.defineProperty(d,\"default\",{enumerable:!0,value:e}),2&c&&\"string\"!=typeof e)for(var f in e)n.d(d,f,function(c){return e[c]}.bind(null,f));return d},n.n=function(e){var c=e&&e.__esModule?function(){return e.default}:function(){return e};return n.d(c,\"a\",c),c},n.o=function(e,c){return Object.prototype.hasOwnProperty.call(e,c)},n.p=\"/\",n.oe=function(e){throw console.error(e),e};var b=this[\"webpackJsonpkossip-web\"]=this[\"webpackJsonpkossip-web\"]||[],o=b.push.bind(b);b.push=c,b=b.slice();for(var u=0;u<b.length;u++)c(b[u]);var i=o;d()}([])</script><script src=\"/static/js/30.e7519db4.chunk.js\"></script><script src=\"/static/js/main.2169ea0c.chunk.js\"></script></body></html>'\n"
     ]
    }
   ],
   "source": [
    "import requests\n",
    "page=requests.get('https://learning.ccbp.in/')\n",
    "print(page)\n",
    "print(page.content)"
   ]
  },
  {
   "cell_type": "code",
   "execution_count": 4,
   "id": "025ba12f",
   "metadata": {},
   "outputs": [
    {
     "name": "stdout",
     "output_type": "stream",
     "text": [
      "None\n"
     ]
    }
   ],
   "source": [
    "from bs4 import BeautifulSoup\n",
    "soup=BeautifulSoup(page.content,'html.parser')\n",
    "page_title=soup.head\n",
    "page_body=soup.title\n",
    "print(page_body)"
   ]
  },
  {
   "cell_type": "code",
   "execution_count": 5,
   "id": "a4eb3c8f",
   "metadata": {},
   "outputs": [
    {
     "name": "stdout",
     "output_type": "stream",
     "text": [
      "<head><meta charset=\"utf-8\"/><link href=\"/images/icons/nxtwave-icon-384x384.png\" rel=\"icon\"/><meta content=\"width=device-width,initial-scale=1\" name=\"viewport\"/><meta content=\"#000000\" name=\"theme-color\"/><link href=\"images/icons/nxtwave-touch-icon-iphone.png\" rel=\"apple-touch-icon\"/><link href=\"images/icons/nxtwave-touch-icon-ipad.png\" rel=\"apple-touch-icon\" sizes=\"76x76\"/><link href=\"images/icons/nxtwave-touch-icon-iphone-retina.png\" rel=\"apple-touch-icon\" sizes=\"120x120\"/><link href=\"images/icons/nxtwave-touch-icon-ipad-retina.png\" rel=\"apple-touch-icon\" sizes=\"152x152\"/><link href=\"images/icons/nxtwave-touch-icon-start-up-1136x640.png\" media=\"screen and (device-width: 320px) and (device-height: 568px) and (-webkit-device-pixel-ratio: 2) and (orientation: landscape)\" rel=\"apple-touch-startup-image\"/><link href=\"images/icons/nxtwave-touch-icon-start-up-2436x1125.png\" media=\"screen and (device-width: 375px) and (device-height: 812px) and (-webkit-device-pixel-ratio: 3) and (orientation: landscape)\" rel=\"apple-touch-startup-image\"/><link href=\"images/icons/nxtwave-touch-icon-start-up-1792x828.png\" media=\"screen and (device-width: 414px) and (device-height: 896px) and (-webkit-device-pixel-ratio: 2) and (orientation: landscape)\" rel=\"apple-touch-startup-image\"/><link href=\"images/icons/nxtwave-touch-icon-start-up-828x1792.png\" media=\"screen and (device-width: 414px) and (device-height: 896px) and (-webkit-device-pixel-ratio: 2) and (orientation: portrait)\" rel=\"apple-touch-startup-image\"/><link href=\"images/icons/nxtwave-touch-icon-start-up-1334x750.png\" media=\"screen and (device-width: 375px) and (device-height: 667px) and (-webkit-device-pixel-ratio: 2) and (orientation: landscape)\" rel=\"apple-touch-startup-image\"/><link href=\"images/icons/nxtwave-touch-icon-start-up-1242x2688.png\" media=\"screen and (device-width: 414px) and (device-height: 896px) and (-webkit-device-pixel-ratio: 3) and (orientation: portrait)\" rel=\"apple-touch-startup-image\"/><link href=\"images/icons/nxtwave-touch-icon-start-up-2208x1242.png\" media=\"screen and (device-width: 414px) and (device-height: 736px) and (-webkit-device-pixel-ratio: 3) and (orientation: landscape)\" rel=\"apple-touch-startup-image\"/><link href=\"images/icons/nxtwave-touch-icon-start-up-1125x2436.png\" media=\"screen and (device-width: 375px) and (device-height: 812px) and (-webkit-device-pixel-ratio: 3) and (orientation: portrait)\" rel=\"apple-touch-startup-image\"/><link href=\"images/icons/nxtwave-touch-icon-start-up-1242x2208.png\" media=\"screen and (device-width: 414px) and (device-height: 736px) and (-webkit-device-pixel-ratio: 3) and (orientation: portrait)\" rel=\"apple-touch-startup-image\"/><link href=\"images/icons/nxtwave-touch-icon-start-up-2732x2048.png\" media=\"screen and (device-width: 1024px) and (device-height: 1366px) and (-webkit-device-pixel-ratio: 2) and (orientation: landscape)\" rel=\"apple-touch-startup-image\"/><link href=\"images/icons/nxtwave-touch-icon-start-up-2688x1242.png\" media=\"screen and (device-width: 414px) and (device-height: 896px) and (-webkit-device-pixel-ratio: 3) and (orientation: landscape)\" rel=\"apple-touch-startup-image\"/><link href=\"images/icons/nxtwave-touch-icon-start-up-2224x1668.png\" media=\"screen and (device-width: 834px) and (device-height: 1112px) and (-webkit-device-pixel-ratio: 2) and (orientation: landscape)\" rel=\"apple-touch-startup-image\"/><link href=\"images/icons/nxtwave-touch-icon-start-up-750x1334.png\" media=\"screen and (device-width: 375px) and (device-height: 667px) and (-webkit-device-pixel-ratio: 2) and (orientation: portrait)\" rel=\"apple-touch-startup-image\"/><link href=\"images/icons/nxtwave-touch-icon-start-up-2048x2732.png\" media=\"screen and (device-width: 1024px) and (device-height: 1366px) and (-webkit-device-pixel-ratio: 2) and (orientation: portrait)\" rel=\"apple-touch-startup-image\"/><link href=\"images/icons/nxtwave-touch-icon-start-up-2388x1668.png\" media=\"screen and (device-width: 834px) and (device-height: 1194px) and (-webkit-device-pixel-ratio: 2) and (orientation: landscape)\" rel=\"apple-touch-startup-image\"/><link href=\"images/icons/nxtwave-touch-icon-start-up-1668x2224.png\" media=\"screen and (device-width: 834px) and (device-height: 1112px) and (-webkit-device-pixel-ratio: 2) and (orientation: portrait)\" rel=\"apple-touch-startup-image\"/><link href=\"images/icons/nxtwave-touch-icon-start-up-640x1136.png\" media=\"screen and (device-width: 320px) and (device-height: 568px) and (-webkit-device-pixel-ratio: 2) and (orientation: portrait)\" rel=\"apple-touch-startup-image\"/><link href=\"images/icons/nxtwave-touch-icon-start-up-1668x2388.png\" media=\"screen and (device-width: 834px) and (device-height: 1194px) and (-webkit-device-pixel-ratio: 2) and (orientation: portrait)\" rel=\"apple-touch-startup-image\"/><link href=\"images/icons/nxtwave-touch-icon-start-up-2048x1536.png\" media=\"screen and (device-width: 768px) and (device-height: 1024px) and (-webkit-device-pixel-ratio: 2) and (orientation: landscape)\" rel=\"apple-touch-startup-image\"/><link href=\"images/icons/nxtwave-touch-icon-start-up-1536x2048.png\" media=\"screen and (device-width: 768px) and (device-height: 1024px) and (-webkit-device-pixel-ratio: 2) and (orientation: portrait)\" rel=\"apple-touch-startup-image\"/><meta content=\"yes\" name=\"mobile-web-app-capable\"/><meta content=\"yes\" name=\"apple-mobile-web-app-capable\"/><meta content=\"NXT WAVE\" name=\"application-name\"/><meta content=\"NXT WAVE\" name=\"apple-mobile-web-app-title\"/><meta content=\"#ffffff\" name=\"theme-color\"/><meta content=\"#ffffff\" name=\"msapplication-navbutton-color\"/><meta content=\"default\" name=\"apple-mobile-web-app-status-bar-style\"/><meta content=\"/\" name=\"msapplication-starturl\"/><meta content=\"width=device-width,initial-scale=1,shrink-to-fit=no\" name=\"viewport\"/><link href=\"/manifest-ccbp.json\" rel=\"manifest\"/><meta content=\"Revolutionizing the Job Market | NxtWave\" property=\"og:title\"/><meta content=\"Upgrade yourself with contemporary knowledge in 4.0 Technologies and 21st Century Business skills.\" property=\"og:description\"/><meta content=\"https://media-content.ccbp.in/website/ccbp_website_logos/nxtwave_og_img.png\" property=\"og:image\"/><meta content=\"https://learning.ccbp.in/\" property=\"og:url\"/><link href=\"https://fonts.googleapis.com/css?family=JetBrains+Mono:300,300i,400,400i,600,600i,700,700i,800,800i&amp;display=swap\" rel=\"stylesheet\"/><link href=\"https://fonts.googleapis.com/css?family=Inter:300,300i,400,400i,500,500i,600,600i,700,700i,800,800i&amp;display=swap\" rel=\"stylesheet\"/><script>if(!window.Cypress){var OneSignal=window.OneSignal||[];OneSignal.push((function(){OneSignal.init({appId:\"0364979b-eac3-413e-b785-a1ec380a8cea\"})}))}</script><meta content=\"\" name=\"google-site-verification\"/><script async=\"\" src=\"https://cdnjs.cloudflare.com/ajax/libs/mathjax/2.7.1/MathJax.js?config=TeX-MML-AM_CHTML\"></script><link href=\"/static/css/30.2e9c2d6d.chunk.css\" rel=\"stylesheet\"/><link href=\"/static/css/main.cfe76738.chunk.css\" rel=\"stylesheet\"/></head>\n"
     ]
    }
   ],
   "source": [
    "page_title=soup.head\n",
    "print(page_title)"
   ]
  },
  {
   "cell_type": "code",
   "execution_count": 6,
   "id": "010fc0ea",
   "metadata": {},
   "outputs": [],
   "source": [
    "for link in soup.find_all('a'):\n",
    "    print(link.get('href'))\n"
   ]
  },
  {
   "cell_type": "code",
   "execution_count": null,
   "id": "85b6d14b",
   "metadata": {},
   "outputs": [],
   "source": []
  },
  {
   "cell_type": "code",
   "execution_count": null,
   "id": "e0be0d98",
   "metadata": {},
   "outputs": [],
   "source": []
  },
  {
   "cell_type": "code",
   "execution_count": null,
   "id": "e3aa220b",
   "metadata": {},
   "outputs": [],
   "source": []
  },
  {
   "cell_type": "code",
   "execution_count": null,
   "id": "5aea5d57",
   "metadata": {},
   "outputs": [],
   "source": []
  },
  {
   "cell_type": "code",
   "execution_count": null,
   "id": "8d3fc0ba",
   "metadata": {},
   "outputs": [],
   "source": []
  }
 ],
 "metadata": {
  "kernelspec": {
   "display_name": "Python 3 (ipykernel)",
   "language": "python",
   "name": "python3"
  },
  "language_info": {
   "codemirror_mode": {
    "name": "ipython",
    "version": 3
   },
   "file_extension": ".py",
   "mimetype": "text/x-python",
   "name": "python",
   "nbconvert_exporter": "python",
   "pygments_lexer": "ipython3",
   "version": "3.9.12"
  }
 },
 "nbformat": 4,
 "nbformat_minor": 5
}
